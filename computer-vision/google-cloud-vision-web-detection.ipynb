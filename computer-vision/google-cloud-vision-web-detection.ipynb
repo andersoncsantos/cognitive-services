{
 "cells": [
  {
   "cell_type": "markdown",
   "metadata": {},
   "source": [
    "# Web Detection\n",
    "\n",
    "This demo use **Google Cloud Platform Vision API**."
   ]
  },
  {
   "cell_type": "code",
   "execution_count": 3,
   "metadata": {
    "collapsed": true
   },
   "outputs": [],
   "source": [
    "import time \n",
    "import urllib\n",
    "import requests\n",
    "import cv2\n",
    "import operator\n",
    "import numpy as np\n",
    "from __future__ import print_function\n",
    "import matplotlib.pyplot as plt\n",
    "%matplotlib inline \n",
    "\n",
    "_url = 'https://vision.googleapis.com/v1/images:annotate'\n",
    "_key = '__KEY__'"
   ]
  },
  {
   "cell_type": "code",
   "execution_count": 4,
   "metadata": {
    "collapsed": true
   },
   "outputs": [],
   "source": [
    "def processRequest( json, data, headers, params ):\n",
    "\n",
    "    retries = 0\n",
    "    result = None\n",
    "\n",
    "    while True:\n",
    "\n",
    "        response = requests.request( 'post', _url, json = json, data = data, headers = headers, params = params )\n",
    "\n",
    "        if response.status_code == 429: \n",
    "\n",
    "            print( \"Message: %s\" % ( response.json()['error']['message'] ) )\n",
    "\n",
    "            if retries <= _maxNumRetries: \n",
    "                time.sleep(1) \n",
    "                retries += 1\n",
    "                continue\n",
    "            else: \n",
    "                print( 'Error: failed after retrying!' )\n",
    "                break\n",
    "\n",
    "        elif response.status_code == 200 or response.status_code == 201:\n",
    "\n",
    "            if 'content-length' in response.headers and int(response.headers['content-length']) == 0: \n",
    "                result = None \n",
    "            elif 'content-type' in response.headers and isinstance(response.headers['content-type'], str): \n",
    "                if 'application/json' in response.headers['content-type'].lower(): \n",
    "                    result = response.json() if response.content else None \n",
    "                elif 'image' in response.headers['content-type'].lower(): \n",
    "                    result = response.content\n",
    "        else:\n",
    "            print( \"Error code: %d\" % ( response.status_code ) )\n",
    "            print( \"Message: %s\" % ( response.json()['error']['message'] ) )\n",
    "\n",
    "        break\n",
    "        \n",
    "    return result"
   ]
  },
  {
   "cell_type": "code",
   "execution_count": 5,
   "metadata": {},
   "outputs": [
    {
     "data": {
      "text/html": [
       "<img src=\"https://meriatblob.blob.core.windows.net/demos/cognitive/meriat3.jpg\" width=\"600\"/>"
      ],
      "text/plain": [
       "<IPython.core.display.Image object>"
      ]
     },
     "metadata": {},
     "output_type": "display_data"
    }
   ],
   "source": [
    "from IPython.display import Image as ipImage, display\n",
    "\n",
    "urlImage = 'https://meriatblob.blob.core.windows.net/demos/cognitive/meriat3.jpg'\n",
    "\n",
    "img = ipImage(url=urlImage, width=600)\n",
    "display(img)"
   ]
  },
  {
   "cell_type": "code",
   "execution_count": 6,
   "metadata": {
    "collapsed": true
   },
   "outputs": [],
   "source": [
    "headers = dict()\n",
    "headers['Content-Type'] = 'application/json' \n",
    "\n",
    "json = {\n",
    "  \"requests\": [\n",
    "    {\n",
    "      \"image\": {\n",
    "        \"source\": {\n",
    "          \"imageUri\": urlImage\n",
    "        }\n",
    "      },\n",
    "      \"features\": [\n",
    "        {\n",
    "          \"type\": \"WEB_DETECTION\"\n",
    "        }\n",
    "      ]\n",
    "    }\n",
    "  ]\n",
    "}\n",
    "\n",
    "data = None\n",
    "params = urllib.parse.urlencode({\n",
    "    'key': _key\n",
    "})\n",
    "\n",
    "result = processRequest( json, data, headers, params )"
   ]
  },
  {
   "cell_type": "code",
   "execution_count": 7,
   "metadata": {},
   "outputs": [
    {
     "name": "stdout",
     "output_type": "stream",
     "text": [
      "{\n",
      "  \"responses\": [\n",
      "    {\n",
      "      \"webDetection\": {\n",
      "        \"visuallySimilarImages\": [\n",
      "          {\n",
      "            \"url\": \"https://exchangingeastforwest.files.wordpress.com/2015/06/20150602_113503.jpg\"\n",
      "          },\n",
      "          {\n",
      "            \"url\": \"https://i.ytimg.com/vi/X945CvSdyBE/maxresdefault.jpg\"\n",
      "          },\n",
      "          {\n",
      "            \"url\": \"https://i.ytimg.com/vi/mKonLLpzjyo/maxresdefault.jpg\"\n",
      "          },\n",
      "          {\n",
      "            \"url\": \"http://americajr.us/blog/wp-content/uploads/2016/02/105_2860-900x450.jpg\"\n",
      "          },\n",
      "          {\n",
      "            \"url\": \"https://rachelloehner.files.wordpress.com/2016/06/2016-06-05_griffith09.jpg?w=422&h=316\"\n",
      "          },\n",
      "          {\n",
      "            \"url\": \"https://i.ytimg.com/vi/9pp1YduyQjE/maxresdefault.jpg\"\n",
      "          },\n",
      "          {\n",
      "            \"url\": \"https://i.ytimg.com/vi/C1NWMgp7qSU/mqdefault.jpg\"\n",
      "          },\n",
      "          {\n",
      "            \"url\": \"https://i.pinimg.com/736x/1e/99/8e/1e998eb32f803e98bf35f6664d662237.jpg\"\n",
      "          },\n",
      "          {\n",
      "            \"url\": \"https://static1.squarespace.com/static/50c8f305e4b06fa3eb0300c5/t/512158cce4b0b5151b72ac0a/1361139938724/2013-02-16+09.01.51.jpg?format=750w\"\n",
      "          },\n",
      "          {\n",
      "            \"url\": \"https://meinthebalance.files.wordpress.com/2015/05/img_9356.jpg\"\n",
      "          }\n",
      "        ],\n",
      "        \"webEntities\": [\n",
      "          {\n",
      "            \"description\": \"Griffith Observatory\",\n",
      "            \"entityId\": \"/m/02_4ml\",\n",
      "            \"score\": 2.8824\n",
      "          },\n",
      "          {\n",
      "            \"description\": \"Glasses\",\n",
      "            \"entityId\": \"/m/0jyfg\",\n",
      "            \"score\": 1.3159667\n",
      "          },\n",
      "          {\n",
      "            \"description\": \"Sunglasses\",\n",
      "            \"entityId\": \"/m/017ftj\",\n",
      "            \"score\": 0.7284012\n",
      "          },\n",
      "          {\n",
      "            \"description\": \"Facial hair\",\n",
      "            \"entityId\": \"/m/0ds5b\",\n",
      "            \"score\": 0.64859796\n",
      "          },\n",
      "          {\n",
      "            \"description\": \"Tourism\",\n",
      "            \"entityId\": \"/m/07bxq\",\n",
      "            \"score\": 0.60320646\n",
      "          },\n",
      "          {\n",
      "            \"description\": \"Vacation\",\n",
      "            \"entityId\": \"/m/02jwqh\",\n",
      "            \"score\": 0.5716992\n",
      "          },\n",
      "          {\n",
      "            \"description\": \"Sky\",\n",
      "            \"entityId\": \"/m/01bqvp\",\n",
      "            \"score\": 0.4721449\n",
      "          },\n",
      "          {\n",
      "            \"description\": \"Tree\",\n",
      "            \"entityId\": \"/m/07j7r\",\n",
      "            \"score\": 0.45079106\n",
      "          },\n",
      "          {\n",
      "            \"description\": \"Hair\",\n",
      "            \"entityId\": \"/m/03q69\",\n",
      "            \"score\": 0.3826\n",
      "          },\n",
      "          {\n",
      "            \"description\": \"Observatory\",\n",
      "            \"entityId\": \"/m/0g2vc\",\n",
      "            \"score\": 0.3799\n",
      "          }\n",
      "        ]\n",
      "      }\n",
      "    }\n",
      "  ]\n",
      "}\n"
     ]
    }
   ],
   "source": [
    "import json\n",
    "\n",
    "print(json.dumps(result, indent=2, sort_keys=True))"
   ]
  },
  {
   "cell_type": "code",
   "execution_count": null,
   "metadata": {
    "collapsed": true
   },
   "outputs": [],
   "source": []
  }
 ],
 "metadata": {
  "kernelspec": {
   "display_name": "Python 3",
   "language": "python",
   "name": "python3"
  },
  "language_info": {
   "codemirror_mode": {
    "name": "ipython",
    "version": 3
   },
   "file_extension": ".py",
   "mimetype": "text/x-python",
   "name": "python",
   "nbconvert_exporter": "python",
   "pygments_lexer": "ipython3",
   "version": "3.5.2"
  }
 },
 "nbformat": 4,
 "nbformat_minor": 2
}
