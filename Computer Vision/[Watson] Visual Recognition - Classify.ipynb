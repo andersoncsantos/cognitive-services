{
 "cells": [
  {
   "cell_type": "markdown",
   "metadata": {},
   "source": [
    "# Web Detection\n",
    "\n",
    "This demo use **Watson Visual Recognition**."
   ]
  },
  {
   "cell_type": "code",
   "execution_count": 15,
   "metadata": {
    "collapsed": true
   },
   "outputs": [],
   "source": [
    "import time \n",
    "import urllib\n",
    "import requests\n",
    "import cv2\n",
    "import operator\n",
    "import numpy as np\n",
    "from __future__ import print_function\n",
    "import matplotlib.pyplot as plt\n",
    "%matplotlib inline \n",
    "\n",
    "_url = 'https://gateway-a.watsonplatform.net/visual-recognition/api/v3/classify'\n",
    "_key = '__KEY__'\n",
    "_version = '2016-05-20'"
   ]
  },
  {
   "cell_type": "code",
   "execution_count": 16,
   "metadata": {
    "collapsed": true
   },
   "outputs": [],
   "source": [
    "def processRequest( params ):\n",
    "\n",
    "    retries = 0\n",
    "    result = None\n",
    "\n",
    "    while True:\n",
    "\n",
    "        response = requests.request( 'get', _url, params = params )\n",
    "\n",
    "        if response.status_code == 429: \n",
    "\n",
    "            print( \"Message: %s\" % ( response.json()['error']['message'] ) )\n",
    "\n",
    "            if retries <= _maxNumRetries: \n",
    "                time.sleep(1) \n",
    "                retries += 1\n",
    "                continue\n",
    "            else: \n",
    "                print( 'Error: failed after retrying!' )\n",
    "                break\n",
    "\n",
    "        elif response.status_code == 200 or response.status_code == 201:\n",
    "\n",
    "            if 'content-length' in response.headers and int(response.headers['content-length']) == 0: \n",
    "                result = None \n",
    "            elif 'content-type' in response.headers and isinstance(response.headers['content-type'], str): \n",
    "                if 'application/json' in response.headers['content-type'].lower(): \n",
    "                    result = response.json() if response.content else None \n",
    "                elif 'image' in response.headers['content-type'].lower(): \n",
    "                    result = response.content\n",
    "        else:\n",
    "            print( \"Error code: %d\" % ( response.status_code ) )\n",
    "            print( \"Message: %s\" % ( response.json()['error']['message'] ) )\n",
    "\n",
    "        break\n",
    "        \n",
    "    return result"
   ]
  },
  {
   "cell_type": "code",
   "execution_count": 17,
   "metadata": {},
   "outputs": [
    {
     "data": {
      "text/html": [
       "<img src=\"https://watson-developer-cloud.github.io/doc-tutorial-downloads/visual-recognition/fruitbowl.jpg\" width=\"600\"/>"
      ],
      "text/plain": [
       "<IPython.core.display.Image object>"
      ]
     },
     "metadata": {},
     "output_type": "display_data"
    }
   ],
   "source": [
    "from IPython.display import Image as ipImage, display\n",
    "\n",
    "urlImage = 'https://watson-developer-cloud.github.io/doc-tutorial-downloads/visual-recognition/fruitbowl.jpg'\n",
    "\n",
    "img = ipImage(url=urlImage, width=600)\n",
    "display(img)"
   ]
  },
  {
   "cell_type": "code",
   "execution_count": 18,
   "metadata": {
    "collapsed": true
   },
   "outputs": [],
   "source": [
    "headers = dict() \n",
    "\n",
    "json = { 'url': urlImage } \n",
    "data = None\n",
    "#params = None\n",
    "params = urllib.parse.urlencode({\n",
    "    'api_key': _key,\n",
    "    'url': urlImage,\n",
    "    'version': _version,\n",
    "})\n",
    "\n",
    "result = processRequest( params )"
   ]
  },
  {
   "cell_type": "code",
   "execution_count": 19,
   "metadata": {},
   "outputs": [
    {
     "name": "stdout",
     "output_type": "stream",
     "text": [
      "{\n",
      "  \"custom_classes\": 0,\n",
      "  \"images\": [\n",
      "    {\n",
      "      \"classifiers\": [\n",
      "        {\n",
      "          \"classes\": [\n",
      "            {\n",
      "              \"class\": \"banana\",\n",
      "              \"score\": 0.562,\n",
      "              \"type_hierarchy\": \"/fruit/banana\"\n",
      "            },\n",
      "            {\n",
      "              \"class\": \"fruit\",\n",
      "              \"score\": 0.788\n",
      "            },\n",
      "            {\n",
      "              \"class\": \"diet (food)\",\n",
      "              \"score\": 0.528,\n",
      "              \"type_hierarchy\": \"/food/diet (food)\"\n",
      "            },\n",
      "            {\n",
      "              \"class\": \"food\",\n",
      "              \"score\": 0.528\n",
      "            },\n",
      "            {\n",
      "              \"class\": \"honeydew\",\n",
      "              \"score\": 0.5,\n",
      "              \"type_hierarchy\": \"/fruit/melon/honeydew\"\n",
      "            },\n",
      "            {\n",
      "              \"class\": \"melon\",\n",
      "              \"score\": 0.501\n",
      "            },\n",
      "            {\n",
      "              \"class\": \"olive color\",\n",
      "              \"score\": 0.973\n",
      "            },\n",
      "            {\n",
      "              \"class\": \"lemon yellow color\",\n",
      "              \"score\": 0.789\n",
      "            }\n",
      "          ],\n",
      "          \"classifier_id\": \"default\",\n",
      "          \"name\": \"default\"\n",
      "        }\n",
      "      ],\n",
      "      \"resolved_url\": \"https://watson-developer-cloud.github.io/doc-tutorial-downloads/visual-recognition/fruitbowl.jpg\",\n",
      "      \"source_url\": \"https://watson-developer-cloud.github.io/doc-tutorial-downloads/visual-recognition/fruitbowl.jpg\"\n",
      "    }\n",
      "  ],\n",
      "  \"images_processed\": 1\n",
      "}\n"
     ]
    }
   ],
   "source": [
    "import json\n",
    "\n",
    "print(json.dumps(result, indent=2, sort_keys=True))"
   ]
  },
  {
   "cell_type": "code",
   "execution_count": null,
   "metadata": {
    "collapsed": true
   },
   "outputs": [],
   "source": []
  }
 ],
 "metadata": {
  "kernelspec": {
   "display_name": "Python 3",
   "language": "python",
   "name": "python3"
  },
  "language_info": {
   "codemirror_mode": {
    "name": "ipython",
    "version": 3
   },
   "file_extension": ".py",
   "mimetype": "text/x-python",
   "name": "python",
   "nbconvert_exporter": "python",
   "pygments_lexer": "ipython3",
   "version": "3.5.2"
  }
 },
 "nbformat": 4,
 "nbformat_minor": 2
}
