{
 "cells": [
  {
   "cell_type": "markdown",
   "metadata": {},
   "source": [
    "# Computer Vision - Analyze"
   ]
  },
  {
   "cell_type": "code",
   "execution_count": null,
   "metadata": {
    "collapsed": false
   },
   "outputs": [],
   "source": [
    "import requests\n",
    "import urllib\n",
    "from IPython.display import Image as ipImage, display\n",
    "import json\n",
    "\n",
    "img_url = 'sky-and-sea.jpg'\n",
    "#img_url = 'https://meriatblob.blob.core.windows.net/demos/cognitive/family.jpg'\n",
    "    \n",
    "img = ipImage(url=img_url, width=400, height=400)\n",
    "display(img)\n",
    "\n",
    "with open(\"sky-and-sea.jpg\", \"rb\") as imageFile:\n",
    "    f = imageFile.read()\n",
    "    blob = bytearray(f)\n",
    "\n",
    "print(blob[0])"
   ]
  },
  {
   "cell_type": "code",
   "execution_count": null,
   "metadata": {
    "collapsed": true
   },
   "outputs": [],
   "source": [
    "url_vision_api = 'https://westus.api.cognitive.microsoft.com/vision/v1.0/analyze'\n",
    "api_key = 'Use sua chave da API aqui!'\n",
    "\n",
    "headers = {'Content-Type': 'application/octet-stream', 'Ocp-Apim-Subscription-Key':api_key}\n",
    "\n",
    "params = urllib.parse.urlencode({\n",
    "    'visualFeatures': 'Categories,Tags,Description,Faces,ImageType,Color,Adult',\n",
    "})\n",
    "\n",
    "query_string = '?{0}'.format(params)\n",
    "\n",
    "url = url_vision_api + query_string\n",
    "\n",
    "api_response = requests.post(url, headers=headers, data=blob)"
   ]
  },
  {
   "cell_type": "code",
   "execution_count": null,
   "metadata": {
    "collapsed": false
   },
   "outputs": [],
   "source": [
    "res_json = json.loads(api_response.content.decode('utf-8'))\n",
    "\n",
    "print(json.dumps(res_json, indent=2, sort_keys=True))"
   ]
  },
  {
   "cell_type": "code",
   "execution_count": null,
   "metadata": {
    "collapsed": true
   },
   "outputs": [],
   "source": []
  }
 ],
 "metadata": {
  "anaconda-cloud": {},
  "kernelspec": {
   "display_name": "Python [default]",
   "language": "python",
   "name": "python3"
  },
  "language_info": {
   "codemirror_mode": {
    "name": "ipython",
    "version": 3
   },
   "file_extension": ".py",
   "mimetype": "text/x-python",
   "name": "python",
   "nbconvert_exporter": "python",
   "pygments_lexer": "ipython3",
   "version": "3.5.2"
  }
 },
 "nbformat": 4,
 "nbformat_minor": 1
}
