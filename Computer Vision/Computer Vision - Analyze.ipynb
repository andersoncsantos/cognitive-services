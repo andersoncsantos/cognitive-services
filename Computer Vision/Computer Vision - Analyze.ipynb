{
 "cells": [
  {
   "cell_type": "markdown",
   "metadata": {},
   "source": [
    "# Computer Vision - Analyze"
   ]
  },
  {
   "cell_type": "code",
   "execution_count": 1,
   "metadata": {
    "collapsed": false
   },
   "outputs": [],
   "source": [
    "import urllib\n",
    "import requests\n",
    "import operator\n",
    "from IPython.display import Image as ipImage, display\n",
    "from __future__ import print_function\n",
    "\n",
    "_url = 'https://westus.api.cognitive.microsoft.com/vision/v1.0/analyze'\n",
    "_key = 'Sua chave aqui!'\n",
    "_maxNumRetries = 10"
   ]
  },
  {
   "cell_type": "code",
   "execution_count": 2,
   "metadata": {
    "collapsed": true
   },
   "outputs": [],
   "source": [
    "def processRequest( json, data, headers, params ):\n",
    "    \n",
    "    retries = 0\n",
    "    result = None\n",
    "\n",
    "    while True:\n",
    "\n",
    "        response = requests.request( 'post', _url, json = json, data = data, headers = headers, params = params )\n",
    "\n",
    "        if response.status_code == 429: \n",
    "\n",
    "            print( \"Message: %s\" % ( response.json()['error']['message'] ) )\n",
    "\n",
    "            if retries <= _maxNumRetries: \n",
    "                time.sleep(1) \n",
    "                retries += 1\n",
    "                continue\n",
    "            else: \n",
    "                print( 'Error: failed after retrying!' )\n",
    "                break\n",
    "\n",
    "        elif response.status_code == 200 or response.status_code == 201:\n",
    "\n",
    "            if 'content-length' in response.headers and int(response.headers['content-length']) == 0: \n",
    "                result = None \n",
    "            elif 'content-type' in response.headers and isinstance(response.headers['content-type'], str): \n",
    "                if 'application/json' in response.headers['content-type'].lower(): \n",
    "                    result = response.json() if response.content else None \n",
    "                elif 'image' in response.headers['content-type'].lower(): \n",
    "                    result = response.content\n",
    "        else:\n",
    "            print( \"Error code: %d\" % ( response.status_code ) )\n",
    "            print( \"Message: %s\" % ( response.json()['error']['message'] ) )\n",
    "\n",
    "        break\n",
    "        \n",
    "    return result"
   ]
  },
  {
   "cell_type": "code",
   "execution_count": 3,
   "metadata": {
    "collapsed": false
   },
   "outputs": [
    {
     "data": {
      "text/html": [
       "<img src=\"https://meriatblob.blob.core.windows.net/demos/cognitive/sky-and-sea.jpg\" width=\"400\" height=\"400\"/>"
      ],
      "text/plain": [
       "<IPython.core.display.Image object>"
      ]
     },
     "metadata": {},
     "output_type": "display_data"
    }
   ],
   "source": [
    "urlImage = 'https://meriatblob.blob.core.windows.net/demos/cognitive/sky-and-sea.jpg'\n",
    "\n",
    "img = ipImage(url=urlImage, width=400, height=400)\n",
    "display(img)"
   ]
  },
  {
   "cell_type": "code",
   "execution_count": 4,
   "metadata": {
    "collapsed": true
   },
   "outputs": [],
   "source": [
    "headers = dict()\n",
    "headers['Ocp-Apim-Subscription-Key'] = _key\n",
    "headers['Content-Type'] = 'application/json' \n",
    "\n",
    "json = { 'url': urlImage } \n",
    "data = None\n",
    "\n",
    "params = urllib.parse.urlencode({\n",
    "    'visualFeatures': 'Categories,Tags,Description,Faces,ImageType,Color,Adult',\n",
    "})\n",
    "\n",
    "result = processRequest( json, data, headers, params )"
   ]
  },
  {
   "cell_type": "code",
   "execution_count": 8,
   "metadata": {
    "collapsed": false
   },
   "outputs": [
    {
     "name": "stdout",
     "output_type": "stream",
     "text": [
      "{\n",
      "  \"adult\": {\n",
      "    \"adultScore\": 0.007829328067600727,\n",
      "    \"isAdultContent\": false,\n",
      "    \"isRacyContent\": false,\n",
      "    \"racyScore\": 0.01115757692605257\n",
      "  },\n",
      "  \"categories\": [\n",
      "    {\n",
      "      \"name\": \"outdoor_\",\n",
      "      \"score\": 0.00390625\n",
      "    },\n",
      "    {\n",
      "      \"name\": \"outdoor_oceanbeach\",\n",
      "      \"score\": 0.44921875\n",
      "    },\n",
      "    {\n",
      "      \"name\": \"sky_cloud\",\n",
      "      \"score\": 0.41015625\n",
      "    }\n",
      "  ],\n",
      "  \"color\": {\n",
      "    \"accentColor\": \"002844\",\n",
      "    \"dominantColorBackground\": \"Blue\",\n",
      "    \"dominantColorForeground\": \"White\",\n",
      "    \"dominantColors\": [\n",
      "      \"Blue\",\n",
      "      \"White\"\n",
      "    ],\n",
      "    \"isBWImg\": false\n",
      "  },\n",
      "  \"description\": {\n",
      "    \"captions\": [\n",
      "      {\n",
      "        \"confidence\": 0.9225345185791867,\n",
      "        \"text\": \"a large body of water next to the ocean\"\n",
      "      }\n",
      "    ],\n",
      "    \"tags\": [\n",
      "      \"water\",\n",
      "      \"outdoor\",\n",
      "      \"ocean\",\n",
      "      \"blue\",\n",
      "      \"man\",\n",
      "      \"large\",\n",
      "      \"sitting\",\n",
      "      \"top\",\n",
      "      \"clouds\",\n",
      "      \"sunny\",\n",
      "      \"day\",\n",
      "      \"standing\",\n",
      "      \"body\",\n",
      "      \"boat\",\n",
      "      \"dark\",\n",
      "      \"umbrella\",\n",
      "      \"wave\",\n",
      "      \"riding\",\n",
      "      \"cloudy\",\n",
      "      \"people\",\n",
      "      \"red\",\n",
      "      \"swimming\",\n",
      "      \"yellow\",\n",
      "      \"clear\",\n",
      "      \"board\",\n",
      "      \"white\",\n",
      "      \"beach\",\n",
      "      \"frisbee\"\n",
      "    ]\n",
      "  },\n",
      "  \"faces\": [],\n",
      "  \"imageType\": {\n",
      "    \"clipArtType\": 0,\n",
      "    \"lineDrawingType\": 0\n",
      "  },\n",
      "  \"metadata\": {\n",
      "    \"format\": \"Jpeg\",\n",
      "    \"height\": 400,\n",
      "    \"width\": 400\n",
      "  },\n",
      "  \"requestId\": \"419dd3b1-dd66-4838-893c-472910d3e952\",\n",
      "  \"tags\": [\n",
      "    {\n",
      "      \"confidence\": 0.9999157190322876,\n",
      "      \"name\": \"sky\"\n",
      "    },\n",
      "    {\n",
      "      \"confidence\": 0.9998094439506531,\n",
      "      \"name\": \"water\"\n",
      "    },\n",
      "    {\n",
      "      \"confidence\": 0.9963506460189819,\n",
      "      \"name\": \"outdoor\"\n",
      "    },\n",
      "    {\n",
      "      \"confidence\": 0.8645922541618347,\n",
      "      \"name\": \"ocean\"\n",
      "    },\n",
      "    {\n",
      "      \"confidence\": 0.5746071338653564,\n",
      "      \"name\": \"blue\"\n",
      "    },\n",
      "    {\n",
      "      \"confidence\": 0.33293288946151733,\n",
      "      \"name\": \"clouds\"\n",
      "    },\n",
      "    {\n",
      "      \"confidence\": 0.32971930503845215,\n",
      "      \"name\": \"sunny\"\n",
      "    },\n",
      "    {\n",
      "      \"confidence\": 0.2983008325099945,\n",
      "      \"name\": \"day\"\n",
      "    },\n",
      "    {\n",
      "      \"confidence\": 0.19222556054592133,\n",
      "      \"name\": \"shore\"\n",
      "    }\n",
      "  ]\n",
      "}\n"
     ]
    }
   ],
   "source": [
    "import json\n",
    "print(json.dumps(result, indent=2, sort_keys=True))"
   ]
  },
  {
   "cell_type": "code",
   "execution_count": null,
   "metadata": {
    "collapsed": true
   },
   "outputs": [],
   "source": []
  }
 ],
 "metadata": {
  "anaconda-cloud": {},
  "kernelspec": {
   "display_name": "Python [default]",
   "language": "python",
   "name": "python3"
  },
  "language_info": {
   "codemirror_mode": {
    "name": "ipython",
    "version": 3
   },
   "file_extension": ".py",
   "mimetype": "text/x-python",
   "name": "python",
   "nbconvert_exporter": "python",
   "pygments_lexer": "ipython3",
   "version": "3.5.2"
  }
 },
 "nbformat": 4,
 "nbformat_minor": 1
}
